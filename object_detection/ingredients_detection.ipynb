{
  "nbformat": 4,
  "nbformat_minor": 0,
  "metadata": {
    "colab": {
      "provenance": [],
      "gpuType": "T4"
    },
    "kernelspec": {
      "name": "python3",
      "display_name": "Python 3"
    },
    "language_info": {
      "name": "python"
    },
    "accelerator": "GPU"
  },
  "cells": [
    {
      "cell_type": "markdown",
      "source": [
        "## 데이터셋 다운로드"
      ],
      "metadata": {
        "id": "ZgRrMDVUdjH6"
      }
    },
    {
      "cell_type": "code",
      "execution_count": 1,
      "metadata": {
        "id": "YtU2I9JaJoh-",
        "colab": {
          "base_uri": "https://localhost:8080/"
        },
        "outputId": "58f5f2fa-c9ff-4b9d-cf81-f545cf6f9eec"
      },
      "outputs": [
        {
          "output_type": "stream",
          "name": "stdout",
          "text": [
            "Cloning into 'yolov5'...\n",
            "remote: Enumerating objects: 15829, done.\u001b[K\n",
            "remote: Counting objects: 100% (60/60), done.\u001b[K\n",
            "remote: Compressing objects: 100% (50/50), done.\u001b[K\n",
            "remote: Total 15829 (delta 21), reused 31 (delta 10), pack-reused 15769\u001b[K\n",
            "Receiving objects: 100% (15829/15829), 14.60 MiB | 11.26 MiB/s, done.\n",
            "Resolving deltas: 100% (10835/10835), done.\n",
            "/content/yolov5\n",
            "\u001b[2K     \u001b[90m━━━━━━━━━━━━━━━━━━━━━━━━━━━━━━━━━━━━━━━\u001b[0m \u001b[32m188.5/188.5 kB\u001b[0m \u001b[31m2.2 MB/s\u001b[0m eta \u001b[36m0:00:00\u001b[0m\n",
            "\u001b[2K     \u001b[90m━━━━━━━━━━━━━━━━━━━━━━━━━━━━━━━━━━━━━━\u001b[0m \u001b[32m607.6/607.6 kB\u001b[0m \u001b[31m34.2 MB/s\u001b[0m eta \u001b[36m0:00:00\u001b[0m\n",
            "\u001b[2K     \u001b[90m━━━━━━━━━━━━━━━━━━━━━━━━━━━━━━━━━━━━━━━━\u001b[0m \u001b[32m62.7/62.7 kB\u001b[0m \u001b[31m4.1 MB/s\u001b[0m eta \u001b[36m0:00:00\u001b[0m\n",
            "\u001b[?25h"
          ]
        }
      ],
      "source": [
        "# YOLO v5 PyTorch 다운로드\n",
        "!git clone https://github.com/ultralytics/yolov5\n",
        "%cd /content/yolov5\n",
        "%pip install -qr requirements.txt"
      ]
    },
    {
      "cell_type": "code",
      "source": [
        "# 이미지 데이터셋 다운로드\n",
        "!git clone https://github.com/Ottug-i/Curry_Data"
      ],
      "metadata": {
        "colab": {
          "base_uri": "https://localhost:8080/"
        },
        "id": "cCItE3KUMP0v",
        "outputId": "3a8d008b-5e6f-4a24-b20e-3fa4865b0125"
      },
      "execution_count": 2,
      "outputs": [
        {
          "output_type": "stream",
          "name": "stdout",
          "text": [
            "Cloning into 'Curry_Data'...\n",
            "remote: Enumerating objects: 86863, done.\u001b[K\n",
            "remote: Counting objects: 100% (3/3), done.\u001b[K\n",
            "remote: Compressing objects: 100% (3/3), done.\u001b[K\n",
            "remote: Total 86863 (delta 0), reused 1 (delta 0), pack-reused 86860\u001b[K\n",
            "Receiving objects: 100% (86863/86863), 1.95 GiB | 16.30 MiB/s, done.\n",
            "Resolving deltas: 100% (2040/2040), done.\n",
            "Updating files: 100% (44108/44108), done.\n"
          ]
        }
      ]
    },
    {
      "cell_type": "markdown",
      "source": [
        "## 데이터셋 구분"
      ],
      "metadata": {
        "id": "fNgNtKHPff6G"
      }
    },
    {
      "cell_type": "code",
      "source": [
        "from glob import glob\n",
        "\n",
        "data_img_list = glob('/content/yolov5/Curry_Data/object_detection/dataset/images/*.jpg')\n",
        "print(len(data_img_list))"
      ],
      "metadata": {
        "id": "ytz-rk2qPoff",
        "colab": {
          "base_uri": "https://localhost:8080/"
        },
        "outputId": "26faabae-9fe3-4ec1-c69b-02aef1a2a838"
      },
      "execution_count": 4,
      "outputs": [
        {
          "output_type": "stream",
          "name": "stdout",
          "text": [
            "21981\n"
          ]
        }
      ]
    },
    {
      "cell_type": "code",
      "source": [
        "from sklearn.model_selection import train_test_split\n",
        "\n",
        "train_img_list, test_img_list = train_test_split(data_img_list, test_size=0.2, random_state=777)\n",
        "print(len(train_img_list), len(test_img_list))"
      ],
      "metadata": {
        "id": "DXKmTAUnP5h0",
        "colab": {
          "base_uri": "https://localhost:8080/"
        },
        "outputId": "f467adba-ee39-489d-c04d-ac3ff73759b6"
      },
      "execution_count": 5,
      "outputs": [
        {
          "output_type": "stream",
          "name": "stdout",
          "text": [
            "17584 4397\n"
          ]
        }
      ]
    },
    {
      "cell_type": "code",
      "source": [
        "test_img_list, valid_img_list = train_test_split(test_img_list, test_size=0.5, random_state=777)\n",
        "print(len(test_img_list), len(valid_img_list))"
      ],
      "metadata": {
        "id": "B0SJ0MyYQEm6",
        "colab": {
          "base_uri": "https://localhost:8080/"
        },
        "outputId": "40a9b500-7aee-435f-be57-1c145a26147b"
      },
      "execution_count": 6,
      "outputs": [
        {
          "output_type": "stream",
          "name": "stdout",
          "text": [
            "2198 2199\n"
          ]
        }
      ]
    },
    {
      "cell_type": "markdown",
      "source": [
        "## data.yaml 파일 수정"
      ],
      "metadata": {
        "id": "gOmcgKfvfi94"
      }
    },
    {
      "cell_type": "code",
      "source": [
        "#yaml 파일에 이미지 경로 리스트 작성\n",
        "import yaml\n",
        "\n",
        "with open('/content/yolov5/Curry_Data/object_detection/train.txt', 'w') as f:\n",
        "    f.write('\\n'.join(train_img_list) + '\\n')\n",
        "\n",
        "with open('/content/yolov5/Curry_Data/object_detection/test.txt', 'w') as f:\n",
        "    f.write('\\n'.join(test_img_list) + '\\n')\n",
        "\n",
        "with open('/content/yolov5/Curry_Data/object_detection/valid.txt', 'w') as f:\n",
        "    f.write('\\n'.join(valid_img_list) + '\\n')"
      ],
      "metadata": {
        "id": "yXm_dwxOfbBT"
      },
      "execution_count": 7,
      "outputs": []
    },
    {
      "cell_type": "code",
      "source": [
        "# 파일의 문장을 텍스트처럼 이용하기 위해 함수 생성\n",
        "from IPython.core.magic import register_line_cell_magic\n",
        "\n",
        "@register_line_cell_magic\n",
        "def writetemplate(line, cell):\n",
        "    with open(line, 'w') as f:\n",
        "        f.write(cell.format(**globals()))"
      ],
      "metadata": {
        "id": "z94F9AtFZLrg"
      },
      "execution_count": 8,
      "outputs": []
    },
    {
      "cell_type": "code",
      "source": [
        "# 폴더에 맞게 경로 변경\n",
        "%%writetemplate /content/yolov5/Curry_Data/object_detection/data.yaml\n",
        "\n",
        "train: ./Curry_Data/object_detection/train.txt\n",
        "test: ./Curry_Data/object_detection/test.txt\n",
        "val: ./Curry_Data/object_detection/valid.txt\n",
        "\n",
        "nc: 111\n",
        "names: ['참치캔', '라면', '카레', '소주', '맥주', '닭', '닭가슴살', '소고기', '돼지', '오리고기', '삼겹살', '사과', '바나나', '레몬', '오렌지', '크랜베리', '복숭아', '포도', '망고', '토마토', '딸기', '체리', '수박', '석류', '양배추', '고추', '파프리카', '당근', '옥수수', '오이', '마늘', '생강', '상추', '양파', '감자', '무', '시금치', '고구마', '샐러리', '브로콜리', '애호박', '단호박', '대파', '김치', '연근', '파슬리', '콩나물', '아보카도', '새송이버섯', '느타리버섯', '배추', '팽이버섯', '표고버섯', '양송이버섯', '목이버섯', '청경채', '고사리', '굴', '연어', '문어', '가리비', '해삼', '새우', '홍합', '갈치', '다시마', '꼬막', '고등어', '게', '전복', '참치', '오징어', '맛살', '초고추장', '땅콩잼', '누텔라', '식용유', '식초', '후추', '달걀', '삶은달걀', '소시지', '베이컨', '버터', '치즈', '우유', '만두', '두부', '쌀밥', '파스타면', '국수', '밤', '아몬드', '호두', '식빵', '바게트', '크로와상', '와플', '고추장', '빵', '마요네즈', '김', '멸치', '생강', '베이컨', '박력분', '양배추', '깻잎', '머스터드', '된장', '부추']"
      ],
      "metadata": {
        "id": "dss8EIfyZMwL"
      },
      "execution_count": 9,
      "outputs": []
    },
    {
      "cell_type": "code",
      "source": [
        "# train, valid 경로 정보 및 레이블 (클래스) 확인\n",
        "%cat /content/yolov5/Curry_Data/object_detection/data.yaml"
      ],
      "metadata": {
        "id": "plKrDaz0aMkt",
        "colab": {
          "base_uri": "https://localhost:8080/"
        },
        "outputId": "8bb538ad-95a9-4695-c977-449780de561c"
      },
      "execution_count": 10,
      "outputs": [
        {
          "output_type": "stream",
          "name": "stdout",
          "text": [
            "\n",
            "train: ./Curry_Data/object_detection/train.txt\n",
            "test: ./Curry_Data/object_detection/test.txt\n",
            "val: ./Curry_Data/object_detection/valid.txt\n",
            "\n",
            "nc: 111\n",
            "names: ['참치캔', '라면', '카레', '소주', '맥주', '닭', '닭가슴살', '소고기', '돼지', '오리고기', '삼겹살', '사과', '바나나', '레몬', '오렌지', '크랜베리', '복숭아', '포도', '망고', '토마토', '딸기', '체리', '수박', '석류', '양배추', '고추', '파프리카', '당근', '옥수수', '오이', '마늘', '생강', '상추', '양파', '감자', '무', '시금치', '고구마', '샐러리', '브로콜리', '애호박', '단호박', '대파', '김치', '연근', '파슬리', '콩나물', '아보카도', '새송이버섯', '느타리버섯', '배추', '팽이버섯', '표고버섯', '양송이버섯', '목이버섯', '청경채', '고사리', '굴', '연어', '문어', '가리비', '해삼', '새우', '홍합', '갈치', '다시마', '꼬막', '고등어', '게', '전복', '참치', '오징어', '맛살', '초고추장', '땅콩잼', '누텔라', '식용유', '식초', '후추', '달걀', '삶은달걀', '소시지', '베이컨', '버터', '치즈', '우유', '만두', '두부', '쌀밥', '파스타면', '국수', '밤', '아몬드', '호두', '식빵', '바게트', '크로와상', '와플', '고추장', '빵', '마요네즈', '김', '멸치', '생강', '베이컨', '박력분', '양배추', '깻잎', '머스터드', '된장', '부추']\n"
          ]
        }
      ]
    },
    {
      "cell_type": "markdown",
      "source": [
        "## 모델 구성"
      ],
      "metadata": {
        "id": "d5MNsVDpeN6t"
      }
    },
    {
      "cell_type": "code",
      "source": [
        "import yaml\n",
        "\n",
        "# 데이터에서 클래스 수 가져오기\n",
        "with open('/content/yolov5/Curry_Data/object_detection/data.yaml', 'r') as stream:\n",
        "    num_classes = str(yaml.safe_load(stream)['nc'])\n",
        "\n",
        "# 80개의 클래스\n",
        "%cat /content/yolov5/models/yolov5s.yaml"
      ],
      "metadata": {
        "colab": {
          "base_uri": "https://localhost:8080/"
        },
        "id": "YmB6L15leQAe",
        "outputId": "f43ffc62-bb5d-42a3-ba72-e9dc2678f88c"
      },
      "execution_count": 11,
      "outputs": [
        {
          "output_type": "stream",
          "name": "stdout",
          "text": [
            "# YOLOv5 🚀 by Ultralytics, AGPL-3.0 license\n",
            "\n",
            "# Parameters\n",
            "nc: 80  # number of classes\n",
            "depth_multiple: 0.33  # model depth multiple\n",
            "width_multiple: 0.50  # layer channel multiple\n",
            "anchors:\n",
            "  - [10,13, 16,30, 33,23]  # P3/8\n",
            "  - [30,61, 62,45, 59,119]  # P4/16\n",
            "  - [116,90, 156,198, 373,326]  # P5/32\n",
            "\n",
            "# YOLOv5 v6.0 backbone\n",
            "backbone:\n",
            "  # [from, number, module, args]\n",
            "  [[-1, 1, Conv, [64, 6, 2, 2]],  # 0-P1/2\n",
            "   [-1, 1, Conv, [128, 3, 2]],  # 1-P2/4\n",
            "   [-1, 3, C3, [128]],\n",
            "   [-1, 1, Conv, [256, 3, 2]],  # 3-P3/8\n",
            "   [-1, 6, C3, [256]],\n",
            "   [-1, 1, Conv, [512, 3, 2]],  # 5-P4/16\n",
            "   [-1, 9, C3, [512]],\n",
            "   [-1, 1, Conv, [1024, 3, 2]],  # 7-P5/32\n",
            "   [-1, 3, C3, [1024]],\n",
            "   [-1, 1, SPPF, [1024, 5]],  # 9\n",
            "  ]\n",
            "\n",
            "# YOLOv5 v6.0 head\n",
            "head:\n",
            "  [[-1, 1, Conv, [512, 1, 1]],\n",
            "   [-1, 1, nn.Upsample, [None, 2, 'nearest']],\n",
            "   [[-1, 6], 1, Concat, [1]],  # cat backbone P4\n",
            "   [-1, 3, C3, [512, False]],  # 13\n",
            "\n",
            "   [-1, 1, Conv, [256, 1, 1]],\n",
            "   [-1, 1, nn.Upsample, [None, 2, 'nearest']],\n",
            "   [[-1, 4], 1, Concat, [1]],  # cat backbone P3\n",
            "   [-1, 3, C3, [256, False]],  # 17 (P3/8-small)\n",
            "\n",
            "   [-1, 1, Conv, [256, 3, 2]],\n",
            "   [[-1, 14], 1, Concat, [1]],  # cat head P4\n",
            "   [-1, 3, C3, [512, False]],  # 20 (P4/16-medium)\n",
            "\n",
            "   [-1, 1, Conv, [512, 3, 2]],\n",
            "   [[-1, 10], 1, Concat, [1]],  # cat head P5\n",
            "   [-1, 3, C3, [1024, False]],  # 23 (P5/32-large)\n",
            "\n",
            "   [[17, 20, 23], 1, Detect, [nc, anchors]],  # Detect(P3, P4, P5)\n",
            "  ]\n"
          ]
        }
      ]
    },
    {
      "cell_type": "code",
      "source": [
        "# 클래스 수(80 -> 111)를 늘려서 새롭게 모델 정의\n",
        "%%writetemplate /content/yolov5/models/custom_yolov5s.yaml\n",
        "\n",
        "# Parameters\n",
        "nc: {num_classes}  # number of classes\n",
        "depth_multiple: 0.33  # model depth multiple\n",
        "width_multiple: 0.50  # layer channel multiple\n",
        "anchors:\n",
        "  - [10,13, 16,30, 33,23]  # P3/8\n",
        "  - [30,61, 62,45, 59,119]  # P4/16\n",
        "  - [116,90, 156,198, 373,326]  # P5/32\n",
        "\n",
        "# YOLOv5 v6.0 backbone\n",
        "backbone:\n",
        "  # [from, number, module, args]\n",
        "  [[-1, 1, Conv, [64, 6, 2, 2]],  # 0-P1/2\n",
        "   [-1, 1, Conv, [128, 3, 2]],  # 1-P2/4\n",
        "   [-1, 3, C3, [128]],\n",
        "   [-1, 1, Conv, [256, 3, 2]],  # 3-P3/8\n",
        "   [-1, 6, C3, [256]],\n",
        "   [-1, 1, Conv, [512, 3, 2]],  # 5-P4/16\n",
        "   [-1, 9, C3, [512]],\n",
        "   [-1, 1, Conv, [1024, 3, 2]],  # 7-P5/32\n",
        "   [-1, 3, C3, [1024]],\n",
        "   [-1, 1, SPPF, [1024, 5]],  # 9\n",
        "  ]\n",
        "\n",
        "# YOLOv5 v6.0 head\n",
        "head:\n",
        "  [[-1, 1, Conv, [512, 1, 1]],\n",
        "   [-1, 1, nn.Upsample, [None, 2, 'nearest']],\n",
        "   [[-1, 6], 1, Concat, [1]],  # cat backbone P4\n",
        "   [-1, 3, C3, [512, False]],  # 13\n",
        "\n",
        "   [-1, 1, Conv, [256, 1, 1]],\n",
        "   [-1, 1, nn.Upsample, [None, 2, 'nearest']],\n",
        "   [[-1, 4], 1, Concat, [1]],  # cat backbone P3\n",
        "   [-1, 3, C3, [256, False]],  # 17 (P3/8-small)\n",
        "\n",
        "   [-1, 1, Conv, [256, 3, 2]],\n",
        "   [[-1, 14], 1, Concat, [1]],  # cat head P4\n",
        "   [-1, 3, C3, [512, False]],  # 20 (P4/16-medium)\n",
        "\n",
        "   [-1, 1, Conv, [512, 3, 2]],\n",
        "   [[-1, 10], 1, Concat, [1]],  # cat head P5\n",
        "   [-1, 3, C3, [1024, False]],  # 23 (P5/32-large)\n",
        "\n",
        "   [[17, 20, 23], 1, Detect, [nc, anchors]],  # Detect(P3, P4, P5)\n",
        "  ]\n"
      ],
      "metadata": {
        "id": "gMcpvvbZeXHK"
      },
      "execution_count": 12,
      "outputs": []
    },
    {
      "cell_type": "code",
      "source": [
        "# nc가 111이 됨\n",
        "%cat /content/yolov5/models/custom_yolov5s.yaml"
      ],
      "metadata": {
        "colab": {
          "base_uri": "https://localhost:8080/"
        },
        "id": "FfH2IL8OelOJ",
        "outputId": "f2185ba6-a1d3-46c5-a31a-d7332098b406"
      },
      "execution_count": 13,
      "outputs": [
        {
          "output_type": "stream",
          "name": "stdout",
          "text": [
            "\n",
            "# Parameters\n",
            "nc: 111  # number of classes\n",
            "depth_multiple: 0.33  # model depth multiple\n",
            "width_multiple: 0.50  # layer channel multiple\n",
            "anchors:\n",
            "  - [10,13, 16,30, 33,23]  # P3/8\n",
            "  - [30,61, 62,45, 59,119]  # P4/16\n",
            "  - [116,90, 156,198, 373,326]  # P5/32\n",
            "\n",
            "# YOLOv5 v6.0 backbone\n",
            "backbone:\n",
            "  # [from, number, module, args]\n",
            "  [[-1, 1, Conv, [64, 6, 2, 2]],  # 0-P1/2\n",
            "   [-1, 1, Conv, [128, 3, 2]],  # 1-P2/4\n",
            "   [-1, 3, C3, [128]],\n",
            "   [-1, 1, Conv, [256, 3, 2]],  # 3-P3/8\n",
            "   [-1, 6, C3, [256]],\n",
            "   [-1, 1, Conv, [512, 3, 2]],  # 5-P4/16\n",
            "   [-1, 9, C3, [512]],\n",
            "   [-1, 1, Conv, [1024, 3, 2]],  # 7-P5/32\n",
            "   [-1, 3, C3, [1024]],\n",
            "   [-1, 1, SPPF, [1024, 5]],  # 9\n",
            "  ]\n",
            "\n",
            "# YOLOv5 v6.0 head\n",
            "head:\n",
            "  [[-1, 1, Conv, [512, 1, 1]],\n",
            "   [-1, 1, nn.Upsample, [None, 2, 'nearest']],\n",
            "   [[-1, 6], 1, Concat, [1]],  # cat backbone P4\n",
            "   [-1, 3, C3, [512, False]],  # 13\n",
            "\n",
            "   [-1, 1, Conv, [256, 1, 1]],\n",
            "   [-1, 1, nn.Upsample, [None, 2, 'nearest']],\n",
            "   [[-1, 4], 1, Concat, [1]],  # cat backbone P3\n",
            "   [-1, 3, C3, [256, False]],  # 17 (P3/8-small)\n",
            "\n",
            "   [-1, 1, Conv, [256, 3, 2]],\n",
            "   [[-1, 14], 1, Concat, [1]],  # cat head P4\n",
            "   [-1, 3, C3, [512, False]],  # 20 (P4/16-medium)\n",
            "\n",
            "   [-1, 1, Conv, [512, 3, 2]],\n",
            "   [[-1, 10], 1, Concat, [1]],  # cat head P5\n",
            "   [-1, 3, C3, [1024, False]],  # 23 (P5/32-large)\n",
            "\n",
            "   [[17, 20, 23], 1, Detect, [nc, anchors]],  # Detect(P3, P4, P5)\n",
            "  ]\n"
          ]
        }
      ]
    },
    {
      "cell_type": "markdown",
      "source": [
        "## 학습"
      ],
      "metadata": {
        "id": "zhBIJU-RaUkH"
      }
    },
    {
      "cell_type": "code",
      "source": [
        "%cd /content/yolov5\n",
        "\n",
        "# 학습\n",
        "!python train.py --img 640 --batch 64 --epochs 3 --data /content/yolov5/Curry_Data/object_detection/data.yaml --cfg ./models/custom_yolov5s.yaml --weight yolov5s.pt --name ingredients_results --cache"
      ],
      "metadata": {
        "id": "55SRnscvaUF6",
        "colab": {
          "base_uri": "https://localhost:8080/"
        },
        "outputId": "946cb197-5b64-4459-85f5-877f51f2771d"
      },
      "execution_count": 14,
      "outputs": [
        {
          "output_type": "stream",
          "name": "stdout",
          "text": [
            "/content/yolov5\n",
            "WARNING ⚠️ 'ultralytics.yolo.v8' is deprecated since '8.0.136' and will be removed in '8.1.0'. Please use 'ultralytics.models.yolo' instead.\n",
            "WARNING ⚠️ 'ultralytics.yolo.utils' is deprecated since '8.0.136' and will be removed in '8.1.0'. Please use 'ultralytics.utils' instead.\n",
            "Note this warning may be related to loading older models. You can update your model to current structure with:\n",
            "    import torch\n",
            "    ckpt = torch.load(\"model.pt\")  # applies to both official and custom models\n",
            "    torch.save(ckpt, \"updated-model.pt\")\n",
            "\n",
            "\u001b[34m\u001b[1mtrain: \u001b[0mweights=yolov5s.pt, cfg=./models/custom_yolov5s.yaml, data=/content/yolov5/Curry_Data/object_detection/data.yaml, hyp=data/hyps/hyp.scratch-low.yaml, epochs=3, batch_size=64, imgsz=640, rect=False, resume=False, nosave=False, noval=False, noautoanchor=False, noplots=False, evolve=None, bucket=, cache=ram, image_weights=False, device=, multi_scale=False, single_cls=False, optimizer=SGD, sync_bn=False, workers=8, project=runs/train, name=ingredients_results, exist_ok=False, quad=False, cos_lr=False, label_smoothing=0.0, patience=100, freeze=[0], save_period=-1, seed=0, local_rank=-1, entity=None, upload_dataset=False, bbox_interval=-1, artifact_alias=latest\n",
            "\u001b[34m\u001b[1mgithub: \u001b[0mup to date with https://github.com/ultralytics/yolov5 ✅\n",
            "YOLOv5 🚀 v7.0-196-gacdf73b Python-3.10.6 torch-2.0.1+cu118 CUDA:0 (Tesla T4, 15102MiB)\n",
            "\n",
            "\u001b[34m\u001b[1mhyperparameters: \u001b[0mlr0=0.01, lrf=0.01, momentum=0.937, weight_decay=0.0005, warmup_epochs=3.0, warmup_momentum=0.8, warmup_bias_lr=0.1, box=0.05, cls=0.5, cls_pw=1.0, obj=1.0, obj_pw=1.0, iou_t=0.2, anchor_t=4.0, fl_gamma=0.0, hsv_h=0.015, hsv_s=0.7, hsv_v=0.4, degrees=0.0, translate=0.1, scale=0.5, shear=0.0, perspective=0.0, flipud=0.0, fliplr=0.5, mosaic=1.0, mixup=0.0, copy_paste=0.0\n",
            "\u001b[34m\u001b[1mComet: \u001b[0mrun 'pip install comet_ml' to automatically track and visualize YOLOv5 🚀 runs in Comet\n",
            "\u001b[34m\u001b[1mTensorBoard: \u001b[0mStart with 'tensorboard --logdir runs/train', view at http://localhost:6006/\n",
            "Downloading https://ultralytics.com/assets/Arial.Unicode.ttf to /root/.config/Ultralytics/Arial.Unicode.ttf...\n",
            "100% 22.2M/22.2M [00:01<00:00, 18.3MB/s]\n",
            "Downloading https://github.com/ultralytics/yolov5/releases/download/v7.0/yolov5s.pt to yolov5s.pt...\n",
            "100% 14.1M/14.1M [00:00<00:00, 18.9MB/s]\n",
            "\n",
            "\n",
            "                 from  n    params  module                                  arguments                     \n",
            "  0                -1  1      3520  models.common.Conv                      [3, 32, 6, 2, 2]              \n",
            "  1                -1  1     18560  models.common.Conv                      [32, 64, 3, 2]                \n",
            "  2                -1  1     18816  models.common.C3                        [64, 64, 1]                   \n",
            "  3                -1  1     73984  models.common.Conv                      [64, 128, 3, 2]               \n",
            "  4                -1  2    115712  models.common.C3                        [128, 128, 2]                 \n",
            "  5                -1  1    295424  models.common.Conv                      [128, 256, 3, 2]              \n",
            "  6                -1  3    625152  models.common.C3                        [256, 256, 3]                 \n",
            "  7                -1  1   1180672  models.common.Conv                      [256, 512, 3, 2]              \n",
            "  8                -1  1   1182720  models.common.C3                        [512, 512, 1]                 \n",
            "  9                -1  1    656896  models.common.SPPF                      [512, 512, 5]                 \n",
            " 10                -1  1    131584  models.common.Conv                      [512, 256, 1, 1]              \n",
            " 11                -1  1         0  torch.nn.modules.upsampling.Upsample    [None, 2, 'nearest']          \n",
            " 12           [-1, 6]  1         0  models.common.Concat                    [1]                           \n",
            " 13                -1  1    361984  models.common.C3                        [512, 256, 1, False]          \n",
            " 14                -1  1     33024  models.common.Conv                      [256, 128, 1, 1]              \n",
            " 15                -1  1         0  torch.nn.modules.upsampling.Upsample    [None, 2, 'nearest']          \n",
            " 16           [-1, 4]  1         0  models.common.Concat                    [1]                           \n",
            " 17                -1  1     90880  models.common.C3                        [256, 128, 1, False]          \n",
            " 18                -1  1    147712  models.common.Conv                      [128, 128, 3, 2]              \n",
            " 19          [-1, 14]  1         0  models.common.Concat                    [1]                           \n",
            " 20                -1  1    296448  models.common.C3                        [256, 256, 1, False]          \n",
            " 21                -1  1    590336  models.common.Conv                      [256, 256, 3, 2]              \n",
            " 22          [-1, 10]  1         0  models.common.Concat                    [1]                           \n",
            " 23                -1  1   1182720  models.common.C3                        [512, 512, 1, False]          \n",
            " 24      [17, 20, 23]  1    312852  models.yolo.Detect                      [111, [[10, 13, 16, 30, 33, 23], [30, 61, 62, 45, 59, 119], [116, 90, 156, 198, 373, 326]], [128, 256, 512]]\n",
            "custom_YOLOv5s summary: 214 layers, 7318996 parameters, 7318996 gradients, 16.9 GFLOPs\n",
            "\n",
            "Transferred 342/349 items from yolov5s.pt\n",
            "\u001b[34m\u001b[1mAMP: \u001b[0mchecks passed ✅\n",
            "\u001b[34m\u001b[1moptimizer:\u001b[0m SGD(lr=0.01) with parameter groups 57 weight(decay=0.0), 60 weight(decay=0.0005), 60 bias\n",
            "\u001b[34m\u001b[1malbumentations: \u001b[0mBlur(p=0.01, blur_limit=(3, 7)), MedianBlur(p=0.01, blur_limit=(3, 7)), ToGray(p=0.01), CLAHE(p=0.01, clip_limit=(1, 4.0), tile_grid_size=(8, 8))\n",
            "\u001b[34m\u001b[1mtrain: \u001b[0mScanning /content/yolov5/Curry_Data/object_detection/train... 17561 images, 32 backgrounds, 0 corrupt: 100% 17584/17584 [00:10<00:00, 1607.80it/s]\n",
            "\u001b[34m\u001b[1mtrain: \u001b[0mNew cache created: /content/yolov5/Curry_Data/object_detection/train.cache\n",
            "\u001b[34m\u001b[1mtrain: \u001b[0m19.8GB RAM required, 8.2/12.7GB available, not caching images ⚠️\n",
            "\u001b[34m\u001b[1mval: \u001b[0mScanning /content/yolov5/Curry_Data/object_detection/valid... 2192 images, 8 backgrounds, 0 corrupt: 100% 2199/2199 [00:04<00:00, 464.16it/s]\n",
            "\u001b[34m\u001b[1mval: \u001b[0mNew cache created: /content/yolov5/Curry_Data/object_detection/valid.cache\n",
            "\u001b[34m\u001b[1mval: \u001b[0mCaching images (2.5GB ram): 100% 2199/2199 [00:19<00:00, 112.30it/s]\n",
            "\n",
            "\u001b[34m\u001b[1mAutoAnchor: \u001b[0m3.73 anchors/target, 0.999 Best Possible Recall (BPR). Current anchors are a good fit to dataset ✅\n",
            "Plotting labels to runs/train/ingredients_results/labels.jpg... \n",
            "Image sizes 640 train, 640 val\n",
            "Using 2 dataloader workers\n",
            "Logging results to \u001b[1mruns/train/ingredients_results\u001b[0m\n",
            "Starting training for 3 epochs...\n",
            "\n",
            "      Epoch    GPU_mem   box_loss   obj_loss   cls_loss  Instances       Size\n",
            "        0/2      13.4G     0.1197     0.0373     0.1158        274        640:   0% 0/275 [00:02<?, ?it/s]Downloading https://ultralytics.com/assets/Arial.ttf to /root/.config/Ultralytics/Arial.ttf...\n",
            "        0/2      14.1G    0.06319    0.04006     0.1024        246        640: 100% 275/275 [10:01<00:00,  2.19s/it]\n",
            "                 Class     Images  Instances          P          R      mAP50   mAP50-95: 100% 18/18 [00:34<00:00,  1.92s/it]\n",
            "                   all       2199       5601    0.00546      0.556     0.0144    0.00742\n",
            "\n",
            "      Epoch    GPU_mem   box_loss   obj_loss   cls_loss  Instances       Size\n",
            "        1/2      12.2G    0.04609    0.03711    0.08628        215        640: 100% 275/275 [09:42<00:00,  2.12s/it]\n",
            "                 Class     Images  Instances          P          R      mAP50   mAP50-95: 100% 18/18 [00:41<00:00,  2.30s/it]\n",
            "                   all       2199       5601      0.761     0.0641     0.0493     0.0275\n",
            "\n",
            "      Epoch    GPU_mem   box_loss   obj_loss   cls_loss  Instances       Size\n",
            "        2/2      12.6G    0.04302    0.03599    0.07052        212        640: 100% 275/275 [09:38<00:00,  2.10s/it]\n",
            "                 Class     Images  Instances          P          R      mAP50   mAP50-95: 100% 18/18 [00:33<00:00,  1.85s/it]\n",
            "                   all       2199       5601      0.643      0.139      0.109     0.0653\n",
            "\n",
            "3 epochs completed in 0.521 hours.\n",
            "Optimizer stripped from runs/train/ingredients_results/weights/last.pt, 15.0MB\n",
            "Optimizer stripped from runs/train/ingredients_results/weights/best.pt, 15.0MB\n",
            "\n",
            "Validating runs/train/ingredients_results/weights/best.pt...\n",
            "Fusing layers... \n",
            "custom_YOLOv5s summary: 157 layers, 7309492 parameters, 0 gradients, 16.7 GFLOPs\n",
            "                 Class     Images  Instances          P          R      mAP50   mAP50-95: 100% 18/18 [00:46<00:00,  2.56s/it]\n",
            "                   all       2199       5601      0.643      0.139      0.109     0.0654\n",
            "                   참치캔       2199         48      0.924     0.0208     0.0464     0.0214\n",
            "                    라면       2199         48      0.163      0.438      0.234      0.131\n",
            "                    카레       2199         29      0.564      0.446      0.459      0.382\n",
            "                    소주       2199         47      0.199      0.766      0.422      0.179\n",
            "                    맥주       2199         54     0.0481      0.222     0.0319     0.0174\n",
            "                     닭       2199         43          0          0     0.0149    0.00725\n",
            "                  닭가슴살       2199         34          1          0     0.0173    0.00938\n",
            "                   소고기       2199         47       0.26      0.362      0.188      0.111\n",
            "                    돼지       2199         80          1          0    0.00535    0.00254\n",
            "                  오리고기       2199         44          1          0     0.0226    0.00676\n",
            "                   삼겹살       2199         27          1          0     0.0214    0.00942\n",
            "                    사과       2199         62      0.154      0.452      0.125     0.0836\n",
            "                   바나나       2199         32          1          0     0.0189     0.0113\n",
            "                    레몬       2199         18          1          0     0.0124    0.00691\n",
            "                   오렌지       2199         13          1          0     0.0149     0.0107\n",
            "                  크랜베리       2199         24          1          0     0.0156     0.0113\n",
            "                   복숭아       2199         14          0          0      0.102     0.0564\n",
            "                    포도       2199         29          0          0    0.00475    0.00264\n",
            "                    망고       2199         11          1          0      0.011     0.0086\n",
            "                   토마토       2199         36     0.0671     0.0833     0.0326     0.0207\n",
            "                    딸기       2199        245      0.231      0.408      0.197      0.112\n",
            "                    체리       2199        188      0.164      0.447      0.279      0.122\n",
            "                    수박       2199         51      0.623     0.0392     0.0585      0.031\n",
            "                    석류       2199         39      0.404      0.333       0.33      0.254\n",
            "                   양배추       2199         70      0.195      0.171     0.0823     0.0413\n",
            "                    고추       2199         69      0.103     0.0725     0.0782      0.048\n",
            "                  파프리카       2199        127        0.4      0.236      0.203     0.0896\n",
            "                    당근       2199         29          1          0    0.00781    0.00465\n",
            "                   옥수수       2199         33          0          0     0.0131    0.00812\n",
            "                    오이       2199         38      0.274      0.105     0.0995     0.0366\n",
            "                    마늘       2199        246       0.26      0.476      0.282      0.105\n",
            "                    생강       2199         97      0.253     0.0515       0.11      0.046\n",
            "                    상추       2199         52          0          0      0.028      0.018\n",
            "                    양파       2199        115      0.416      0.217      0.209      0.151\n",
            "                    감자       2199         50          0          0      0.019    0.00985\n",
            "                     무       2199         20          1          0    0.00309     0.0018\n",
            "                   시금치       2199         40          1          0     0.0133     0.0071\n",
            "                   고구마       2199         15          1          0     0.0335     0.0111\n",
            "                   샐러리       2199         55          1          0     0.0037    0.00141\n",
            "                  브로콜리       2199         46      0.253      0.435      0.197      0.103\n",
            "                   애호박       2199          7          1          0    0.00426    0.00252\n",
            "                   단호박       2199         51      0.312     0.0625     0.0735     0.0298\n",
            "                    대파       2199         21          1          0     0.0757     0.0513\n",
            "                    김치       2199         19     0.0846      0.211     0.0452     0.0132\n",
            "                    연근       2199         18          1          0     0.0402      0.014\n",
            "                   파슬리       2199         21          1          0     0.0104    0.00352\n",
            "                   콩나물       2199         58          1          0     0.0217    0.00694\n",
            "                  아보카도       2199        104     0.0546     0.0385     0.0236     0.0077\n",
            "                 새송이버섯       2199         34          1          0     0.0243     0.0123\n",
            "                 느타리버섯       2199         39          1          0     0.0184     0.0102\n",
            "                    배추       2199         33          1          0     0.0795     0.0421\n",
            "                  팽이버섯       2199        117      0.213      0.504      0.261      0.165\n",
            "                  표고버섯       2199         59          1          0     0.0356     0.0225\n",
            "                 양송이버섯       2199         22          1          0     0.0196     0.0146\n",
            "                  목이버섯       2199         11          1          0    0.00594    0.00333\n",
            "                   청경채       2199         34        0.4      0.735      0.529      0.358\n",
            "                   고사리       2199        138      0.305       0.58      0.314      0.165\n",
            "                     굴       2199         72          0          0     0.0607     0.0363\n",
            "                    연어       2199         19          1          0      0.005    0.00293\n",
            "                    문어       2199         54          1          0     0.0105    0.00693\n",
            "                   가리비       2199         27          1          0     0.0156    0.00894\n",
            "                    해삼       2199        115      0.193      0.113     0.0646     0.0362\n",
            "                    새우       2199         51          1          0    0.00221    0.00124\n",
            "                    홍합       2199         86      0.188      0.477       0.35      0.184\n",
            "                    갈치       2199         26          1          0     0.0171    0.00779\n",
            "                   다시마       2199         21      0.838     0.0476      0.116     0.0797\n",
            "                    꼬막       2199         16          1          0     0.0183     0.0136\n",
            "                   고등어       2199         23          1          0   0.000656   0.000476\n",
            "                     게       2199         17          1          0    0.00884    0.00613\n",
            "                    전복       2199         14          1          0    0.00568    0.00265\n",
            "                    참치       2199         85      0.215      0.471      0.215      0.088\n",
            "                   오징어       2199         24          1          0     0.0148    0.00851\n",
            "                    맛살       2199         28       0.12      0.571      0.209      0.143\n",
            "                  초고추장       2199         11          1          0     0.0161     0.0147\n",
            "                   땅콩잼       2199         29          1          0      0.186      0.132\n",
            "                   누텔라       2199         33     0.0802      0.242     0.0666      0.047\n",
            "                   식용유       2199         63      0.117      0.683      0.465       0.28\n",
            "                    식초       2199         32      0.157      0.222      0.205      0.134\n",
            "                    후추       2199         16      0.357      0.438      0.344       0.23\n",
            "                    달걀       2199        248      0.524      0.609      0.614      0.352\n",
            "                  삶은달걀       2199         10          1          0    0.00043   0.000258\n",
            "                   소시지       2199         16          1          0    0.00154   0.000875\n",
            "                   베이컨       2199         46          1          0     0.0142    0.00736\n",
            "                    버터       2199         70      0.263      0.286      0.191      0.104\n",
            "                    치즈       2199         21          1          0    0.00359    0.00243\n",
            "                    우유       2199         27          0          0     0.0265     0.0128\n",
            "                    만두       2199         93      0.182      0.484      0.422      0.313\n",
            "                    두부       2199         51      0.123      0.176     0.0876     0.0549\n",
            "                    쌀밥       2199         24          1          0     0.0302     0.0206\n",
            "                  파스타면       2199         20          1          0    0.00153    0.00104\n",
            "                    국수       2199         18          1          0      0.235      0.173\n",
            "                     밤       2199         15          1          0    0.00238    0.00138\n",
            "                   아몬드       2199        299      0.241      0.819      0.445      0.231\n",
            "                    호두       2199        197      0.389      0.529      0.445      0.237\n",
            "                    식빵       2199         66          1          0     0.0141    0.00755\n",
            "                   바게트       2199         54          1          0     0.0376     0.0194\n",
            "                  크로와상       2199         41          1          0     0.0173    0.00843\n",
            "                    와플       2199         56      0.636      0.625      0.622      0.469\n",
            "                   고추장       2199          9          1          0    0.00748    0.00452\n",
            "                     빵       2199         37          1          0     0.0284     0.0203\n",
            "                  마요네즈       2199         26          1          0     0.0618     0.0405\n",
            "                    생강       2199         13          1          0    0.00233    0.00115\n",
            "                   박력분       2199          6          1          0    0.00284    0.00188\n",
            "                   양배추       2199         49          1          0     0.0443     0.0287\n",
            "                    깻잎       2199         22          1          0     0.0219    0.00574\n",
            "                  머스터드       2199         28      0.454      0.321      0.339      0.251\n",
            "                    된장       2199         11          1          0      0.015    0.00941\n",
            "                    부추       2199         15          1          0     0.0107    0.00435\n",
            "Results saved to \u001b[1mruns/train/ingredients_results\u001b[0m\n"
          ]
        }
      ]
    },
    {
      "cell_type": "markdown",
      "source": [
        "## 검증"
      ],
      "metadata": {
        "id": "R-8MtSDhduAg"
      }
    },
    {
      "cell_type": "code",
      "source": [
        "# 학습 수행이 된 결과 중 가장 수치가 좋았던 가중치 파일 모델을 이용해 검증 수행 (검증 데이터에 대해 수행)\n",
        "!python val.py --weights runs/train/ingredients_results/weights/best.pt --data /content/yolov5/Curry_Data/object_detection/data.yaml --img 640 --iou 0.65 --half"
      ],
      "metadata": {
        "id": "62Imzy_bcUxl",
        "colab": {
          "base_uri": "https://localhost:8080/"
        },
        "outputId": "2421ef07-2a71-420c-b12c-2c955d1d1959"
      },
      "execution_count": 15,
      "outputs": [
        {
          "output_type": "stream",
          "name": "stdout",
          "text": [
            "WARNING ⚠️ 'ultralytics.yolo.v8' is deprecated since '8.0.136' and will be removed in '8.1.0'. Please use 'ultralytics.models.yolo' instead.\n",
            "WARNING ⚠️ 'ultralytics.yolo.utils' is deprecated since '8.0.136' and will be removed in '8.1.0'. Please use 'ultralytics.utils' instead.\n",
            "Note this warning may be related to loading older models. You can update your model to current structure with:\n",
            "    import torch\n",
            "    ckpt = torch.load(\"model.pt\")  # applies to both official and custom models\n",
            "    torch.save(ckpt, \"updated-model.pt\")\n",
            "\n",
            "\u001b[34m\u001b[1mval: \u001b[0mdata=/content/yolov5/Curry_Data/object_detection/data.yaml, weights=['runs/train/ingredients_results/weights/best.pt'], batch_size=32, imgsz=640, conf_thres=0.001, iou_thres=0.65, max_det=300, task=val, device=, workers=8, single_cls=False, augment=False, verbose=False, save_txt=False, save_hybrid=False, save_conf=False, save_json=False, project=runs/val, name=exp, exist_ok=False, half=True, dnn=False\n",
            "YOLOv5 🚀 v7.0-196-gacdf73b Python-3.10.6 torch-2.0.1+cu118 CUDA:0 (Tesla T4, 15102MiB)\n",
            "\n",
            "Fusing layers... \n",
            "custom_YOLOv5s summary: 157 layers, 7309492 parameters, 0 gradients, 16.7 GFLOPs\n",
            "\u001b[34m\u001b[1mval: \u001b[0mScanning /content/yolov5/Curry_Data/object_detection/valid.cache... 2192 images, 8 backgrounds, 0 corrupt: 100% 2199/2199 [00:00<?, ?it/s]\n",
            "                 Class     Images  Instances          P          R      mAP50   mAP50-95: 100% 69/69 [00:34<00:00,  1.99it/s]\n",
            "                   all       2199       5601      0.642      0.138      0.107     0.0651\n",
            "Speed: 0.2ms pre-process, 4.1ms inference, 4.6ms NMS per image at shape (32, 3, 640, 640)\n",
            "Results saved to \u001b[1mruns/val/exp\u001b[0m\n"
          ]
        }
      ]
    },
    {
      "cell_type": "code",
      "source": [
        "# 학습 수행이 된 결과 중 가장 수치가 좋았던 가중치 파일 모델을 이용해 테스트 수행 (테스트 데이터에 대해 수행)\n",
        "!python val.py --weights runs/train/ingredients_results/weights/best.pt --data /content/yolov5/Curry_Data/object_detection/data.yaml --img 640 --task test"
      ],
      "metadata": {
        "id": "whFPN6gVd5Vf",
        "colab": {
          "base_uri": "https://localhost:8080/"
        },
        "outputId": "df444260-b0f2-4712-ba60-8558b27722df"
      },
      "execution_count": 16,
      "outputs": [
        {
          "output_type": "stream",
          "name": "stdout",
          "text": [
            "WARNING ⚠️ 'ultralytics.yolo.v8' is deprecated since '8.0.136' and will be removed in '8.1.0'. Please use 'ultralytics.models.yolo' instead.\n",
            "WARNING ⚠️ 'ultralytics.yolo.utils' is deprecated since '8.0.136' and will be removed in '8.1.0'. Please use 'ultralytics.utils' instead.\n",
            "Note this warning may be related to loading older models. You can update your model to current structure with:\n",
            "    import torch\n",
            "    ckpt = torch.load(\"model.pt\")  # applies to both official and custom models\n",
            "    torch.save(ckpt, \"updated-model.pt\")\n",
            "\n",
            "\u001b[34m\u001b[1mval: \u001b[0mdata=/content/yolov5/Curry_Data/object_detection/data.yaml, weights=['runs/train/ingredients_results/weights/best.pt'], batch_size=32, imgsz=640, conf_thres=0.001, iou_thres=0.6, max_det=300, task=test, device=, workers=8, single_cls=False, augment=False, verbose=False, save_txt=False, save_hybrid=False, save_conf=False, save_json=False, project=runs/val, name=exp, exist_ok=False, half=False, dnn=False\n",
            "YOLOv5 🚀 v7.0-196-gacdf73b Python-3.10.6 torch-2.0.1+cu118 CUDA:0 (Tesla T4, 15102MiB)\n",
            "\n",
            "Fusing layers... \n",
            "custom_YOLOv5s summary: 157 layers, 7309492 parameters, 0 gradients, 16.7 GFLOPs\n",
            "\u001b[34m\u001b[1mtest: \u001b[0mScanning /content/yolov5/Curry_Data/object_detection/test... 2196 images, 4 backgrounds, 0 corrupt: 100% 2198/2198 [00:06<00:00, 323.20it/s]\n",
            "\u001b[34m\u001b[1mtest: \u001b[0mNew cache created: /content/yolov5/Curry_Data/object_detection/test.cache\n",
            "                 Class     Images  Instances          P          R      mAP50   mAP50-95: 100% 69/69 [00:40<00:00,  1.69it/s]\n",
            "                   all       2198       5675      0.617       0.14      0.115       0.07\n",
            "Speed: 0.2ms pre-process, 7.5ms inference, 4.5ms NMS per image at shape (32, 3, 640, 640)\n",
            "Results saved to \u001b[1mruns/val/exp2\u001b[0m\n"
          ]
        }
      ]
    },
    {
      "cell_type": "markdown",
      "source": [
        "## 추론"
      ],
      "metadata": {
        "id": "2DWa0sW4eNOT"
      }
    },
    {
      "cell_type": "code",
      "source": [
        "%ls runs/train/ingredients_results/weights"
      ],
      "metadata": {
        "colab": {
          "base_uri": "https://localhost:8080/"
        },
        "id": "T32hV2OYdiuW",
        "outputId": "2d8315e7-1f95-4aee-a295-05fc43702fdd"
      },
      "execution_count": 17,
      "outputs": [
        {
          "output_type": "stream",
          "name": "stdout",
          "text": [
            "best.pt  last.pt\n"
          ]
        }
      ]
    },
    {
      "cell_type": "code",
      "source": [
        "# 테스트 이미지에 대해서 가장 수치가 좋았던 가중치 모델로 추론\n",
        "!python detect.py --weights runs/train/ingredients_results/weights/best.pt --img 640 --conf 0.4 --source ./Curry_Data/object_detection/test"
      ],
      "metadata": {
        "colab": {
          "base_uri": "https://localhost:8080/"
        },
        "id": "MX9cTF85dlnt",
        "outputId": "43cddd72-a420-464b-da01-06e2b0a70e84"
      },
      "execution_count": 48,
      "outputs": [
        {
          "output_type": "stream",
          "name": "stdout",
          "text": [
            "WARNING ⚠️ 'ultralytics.yolo.v8' is deprecated since '8.0.136' and will be removed in '8.1.0'. Please use 'ultralytics.models.yolo' instead.\n",
            "WARNING ⚠️ 'ultralytics.yolo.utils' is deprecated since '8.0.136' and will be removed in '8.1.0'. Please use 'ultralytics.utils' instead.\n",
            "Note this warning may be related to loading older models. You can update your model to current structure with:\n",
            "    import torch\n",
            "    ckpt = torch.load(\"model.pt\")  # applies to both official and custom models\n",
            "    torch.save(ckpt, \"updated-model.pt\")\n",
            "\n",
            "\u001b[34m\u001b[1mdetect: \u001b[0mweights=['runs/train/ingredients_results/weights/best.pt'], source=./Curry_Data/object_detection/test, data=data/coco128.yaml, imgsz=[640, 640], conf_thres=0.4, iou_thres=0.45, max_det=1000, device=, view_img=False, save_txt=False, save_conf=False, save_crop=False, nosave=False, classes=None, agnostic_nms=False, augment=False, visualize=False, update=False, project=runs/detect, name=exp, exist_ok=False, line_thickness=3, hide_labels=False, hide_conf=False, half=False, dnn=False, vid_stride=1\n",
            "YOLOv5 🚀 v7.0-196-gacdf73b Python-3.10.6 torch-2.0.1+cu118 CUDA:0 (Tesla T4, 15102MiB)\n",
            "\n",
            "Fusing layers... \n",
            "custom_YOLOv5s summary: 157 layers, 7309492 parameters, 0 gradients, 16.7 GFLOPs\n",
            "image 1/4 /content/yolov5/Curry_Data/object_detection/test/2020071602103_0.jpg: 544x640 (no detections), 73.9ms\n",
            "image 2/4 /content/yolov5/Curry_Data/object_detection/test/20220213191115.jpg: 384x640 (no detections), 78.0ms\n",
            "image 3/4 /content/yolov5/Curry_Data/object_detection/test/cpto_d04.jpg: 384x640 (no detections), 8.6ms\n",
            "image 4/4 /content/yolov5/Curry_Data/object_detection/test/img.jpg: 448x640 (no detections), 74.1ms\n",
            "Speed: 0.6ms pre-process, 58.7ms inference, 0.9ms NMS per image at shape (1, 3, 640, 640)\n",
            "Results saved to \u001b[1mruns/detect/exp11\u001b[0m\n"
          ]
        }
      ]
    },
    {
      "cell_type": "code",
      "source": [
        "# 랜덤으로 추론 확인 (실행마다 랜덤으로 추론하는 이미지가 달라짐)\n",
        "import glob\n",
        "import random\n",
        "from IPython.display import Image, display\n",
        "\n",
        "image_name = random.choice(glob.glob('/content/yolov5/runs/detect/exp10/*.jpg'))\n",
        "display(Image(filename=image_name))"
      ],
      "metadata": {
        "colab": {
          "base_uri": "https://localhost:8080/",
          "height": 477
        },
        "id": "SOQuNOf3d1t5",
        "outputId": "a4d79263-eb2d-4dfe-db13-dc1b47774d9b"
      },
      "execution_count": 49,
      "outputs": [
        {
          "output_type": "display_data",
          "data": {
            "image/jpeg": "[encoded data removed]",
            "text/plain": [
              "<IPython.core.display.Image object>"
            ]
          },
          "metadata": {}
        }
      ]
    },
    {
      "cell_type": "markdown",
      "source": [
        "## 모델 내보내기"
      ],
      "metadata": {
        "id": "cG_bFIuZeY--"
      }
    },
    {
      "cell_type": "code",
      "source": [
        "# 가장 수치가 좋았던 가중치 파일 구글 드라이브로 내보내기\n",
        "from google.colab import drive\n",
        "drive.mount('/content/drive')"
      ],
      "metadata": {
        "id": "brxSPERKeOjh",
        "colab": {
          "base_uri": "https://localhost:8080/"
        },
        "outputId": "d1b10ce7-7c21-4fa7-b0e0-fd77e5b88bb6"
      },
      "execution_count": 30,
      "outputs": [
        {
          "output_type": "stream",
          "name": "stdout",
          "text": [
            "Mounted at /content/drive\n"
          ]
        }
      ]
    },
    {
      "cell_type": "code",
      "source": [
        "%cp /content/yolov5/runs/train/ingredients_results/weights/best.pt /content/drive/My\\ Drive/ingredients"
      ],
      "metadata": {
        "id": "tltGbMVoecID"
      },
      "execution_count": 31,
      "outputs": []
    },
    {
      "cell_type": "code",
      "source": [
        "# tflite로 변환하기\n",
        "# !python export.py --weights /content/drive/MyDrive/ingredients.pt --include tflite\n",
        "!python export.py --weights /content/yolov5/runs/train/ingredients_results/weights/best.pt --include tflite"
      ],
      "metadata": {
        "id": "Ao1t-iVcDdFl",
        "colab": {
          "base_uri": "https://localhost:8080/"
        },
        "outputId": "e881de16-0b87-4375-e596-42287ff9b6fe"
      },
      "execution_count": 29,
      "outputs": [
        {
          "output_type": "stream",
          "name": "stdout",
          "text": [
            "WARNING ⚠️ 'ultralytics.yolo.v8' is deprecated since '8.0.136' and will be removed in '8.1.0'. Please use 'ultralytics.models.yolo' instead.\n",
            "WARNING ⚠️ 'ultralytics.yolo.utils' is deprecated since '8.0.136' and will be removed in '8.1.0'. Please use 'ultralytics.utils' instead.\n",
            "Note this warning may be related to loading older models. You can update your model to current structure with:\n",
            "    import torch\n",
            "    ckpt = torch.load(\"model.pt\")  # applies to both official and custom models\n",
            "    torch.save(ckpt, \"updated-model.pt\")\n",
            "\n",
            "\u001b[34m\u001b[1mexport: \u001b[0mdata=data/coco128.yaml, weights=['/content/yolov5/runs/train/ingredients_results/weights/best.pt'], imgsz=[640, 640], batch_size=1, device=cpu, half=False, inplace=False, keras=False, optimize=False, int8=False, dynamic=False, simplify=False, opset=17, verbose=False, workspace=4, nms=False, agnostic_nms=False, topk_per_class=100, topk_all=100, iou_thres=0.45, conf_thres=0.25, include=['tflite']\n",
            "YOLOv5 🚀 v7.0-196-gacdf73b Python-3.10.6 torch-2.0.1+cu118 CPU\n",
            "\n",
            "Fusing layers... \n",
            "custom_YOLOv5s summary: 157 layers, 7309492 parameters, 0 gradients, 16.7 GFLOPs\n",
            "\n",
            "\u001b[34m\u001b[1mPyTorch:\u001b[0m starting from /content/yolov5/runs/train/ingredients_results/weights/best.pt with output shape (1, 25200, 116) (14.3 MB)\n",
            "\n",
            "\u001b[34m\u001b[1mTensorFlow SavedModel:\u001b[0m starting export with tensorflow 2.12.0...\n",
            "\n",
            "                 from  n    params  module                                  arguments                     \n",
            "2023-07-25 13:50:33.807729: E tensorflow/compiler/xla/stream_executor/cuda/cuda_driver.cc:266] failed call to cuInit: CUDA_ERROR_NO_DEVICE: no CUDA-capable device is detected\n",
            "  0                -1  1      3520  models.common.Conv                      [3, 32, 6, 2, 2]              \n",
            "  1                -1  1     18560  models.common.Conv                      [32, 64, 3, 2]                \n",
            "  2                -1  1     18816  models.common.C3                        [64, 64, 1]                   \n",
            "  3                -1  1     73984  models.common.Conv                      [64, 128, 3, 2]               \n",
            "  4                -1  1    115712  models.common.C3                        [128, 128, 2]                 \n",
            "  5                -1  1    295424  models.common.Conv                      [128, 256, 3, 2]              \n",
            "  6                -1  1    625152  models.common.C3                        [256, 256, 3]                 \n",
            "  7                -1  1   1180672  models.common.Conv                      [256, 512, 3, 2]              \n",
            "  8                -1  1   1182720  models.common.C3                        [512, 512, 1]                 \n",
            "  9                -1  1    656896  models.common.SPPF                      [512, 512, 5]                 \n",
            " 10                -1  1    131584  models.common.Conv                      [512, 256, 1, 1]              \n",
            " 11                -1  1         0  torch.nn.modules.upsampling.Upsample    [None, 2, 'nearest']          \n",
            " 12           [-1, 6]  1         0  models.common.Concat                    [1]                           \n",
            " 13                -1  1    361984  models.common.C3                        [512, 256, 1, False]          \n",
            " 14                -1  1     33024  models.common.Conv                      [256, 128, 1, 1]              \n",
            " 15                -1  1         0  torch.nn.modules.upsampling.Upsample    [None, 2, 'nearest']          \n",
            " 16           [-1, 4]  1         0  models.common.Concat                    [1]                           \n",
            " 17                -1  1     90880  models.common.C3                        [256, 128, 1, False]          \n",
            " 18                -1  1    147712  models.common.Conv                      [128, 128, 3, 2]              \n",
            " 19          [-1, 14]  1         0  models.common.Concat                    [1]                           \n",
            " 20                -1  1    296448  models.common.C3                        [256, 256, 1, False]          \n",
            " 21                -1  1    590336  models.common.Conv                      [256, 256, 3, 2]              \n",
            " 22          [-1, 10]  1         0  models.common.Concat                    [1]                           \n",
            " 23                -1  1   1182720  models.common.C3                        [512, 512, 1, False]          \n",
            " 24      [17, 20, 23]  1    312852  models.yolo.Detect                      [111, [[10, 13, 16, 30, 33, 23], [30, 61, 62, 45, 59, 119], [116, 90, 156, 198, 373, 326]], [128, 256, 512], [640, 640]]\n",
            "Model: \"model\"\n",
            "__________________________________________________________________________________________________\n",
            " Layer (type)                   Output Shape         Param #     Connected to                     \n",
            "==================================================================================================\n",
            " input_1 (InputLayer)           [(1, 640, 640, 3)]   0           []                               \n",
            "                                                                                                  \n",
            " tf_conv (TFConv)               (1, 320, 320, 32)    3488        ['input_1[0][0]']                \n",
            "                                                                                                  \n",
            " tf_conv_1 (TFConv)             (1, 160, 160, 64)    18496       ['tf_conv[0][0]']                \n",
            "                                                                                                  \n",
            " tfc3 (TFC3)                    (1, 160, 160, 64)    18624       ['tf_conv_1[0][0]']              \n",
            "                                                                                                  \n",
            " tf_conv_7 (TFConv)             (1, 80, 80, 128)     73856       ['tfc3[0][0]']                   \n",
            "                                                                                                  \n",
            " tfc3_1 (TFC3)                  (1, 80, 80, 128)     115200      ['tf_conv_7[0][0]']              \n",
            "                                                                                                  \n",
            " tf_conv_15 (TFConv)            (1, 40, 40, 256)     295168      ['tfc3_1[0][0]']                 \n",
            "                                                                                                  \n",
            " tfc3_2 (TFC3)                  (1, 40, 40, 256)     623872      ['tf_conv_15[0][0]']             \n",
            "                                                                                                  \n",
            " tf_conv_25 (TFConv)            (1, 20, 20, 512)     1180160     ['tfc3_2[0][0]']                 \n",
            "                                                                                                  \n",
            " tfc3_3 (TFC3)                  (1, 20, 20, 512)     1181184     ['tf_conv_25[0][0]']             \n",
            "                                                                                                  \n",
            " tfsppf (TFSPPF)                (1, 20, 20, 512)     656128      ['tfc3_3[0][0]']                 \n",
            "                                                                                                  \n",
            " tf_conv_33 (TFConv)            (1, 20, 20, 256)     131328      ['tfsppf[0][0]']                 \n",
            "                                                                                                  \n",
            " tf_upsample (TFUpsample)       (1, 40, 40, 256)     0           ['tf_conv_33[0][0]']             \n",
            "                                                                                                  \n",
            " tf_concat (TFConcat)           (1, 40, 40, 512)     0           ['tf_upsample[0][0]',            \n",
            "                                                                  'tfc3_2[0][0]']                 \n",
            "                                                                                                  \n",
            " tfc3_4 (TFC3)                  (1, 40, 40, 256)     361216      ['tf_concat[0][0]']              \n",
            "                                                                                                  \n",
            " tf_conv_39 (TFConv)            (1, 40, 40, 128)     32896       ['tfc3_4[0][0]']                 \n",
            "                                                                                                  \n",
            " tf_upsample_1 (TFUpsample)     (1, 80, 80, 128)     0           ['tf_conv_39[0][0]']             \n",
            "                                                                                                  \n",
            " tf_concat_1 (TFConcat)         (1, 80, 80, 256)     0           ['tf_upsample_1[0][0]',          \n",
            "                                                                  'tfc3_1[0][0]']                 \n",
            "                                                                                                  \n",
            " tfc3_5 (TFC3)                  (1, 80, 80, 128)     90496       ['tf_concat_1[0][0]']            \n",
            "                                                                                                  \n",
            " tf_conv_45 (TFConv)            (1, 40, 40, 128)     147584      ['tfc3_5[0][0]']                 \n",
            "                                                                                                  \n",
            " tf_concat_2 (TFConcat)         (1, 40, 40, 256)     0           ['tf_conv_45[0][0]',             \n",
            "                                                                  'tf_conv_39[0][0]']             \n",
            "                                                                                                  \n",
            " tfc3_6 (TFC3)                  (1, 40, 40, 256)     295680      ['tf_concat_2[0][0]']            \n",
            "                                                                                                  \n",
            " tf_conv_51 (TFConv)            (1, 20, 20, 256)     590080      ['tfc3_6[0][0]']                 \n",
            "                                                                                                  \n",
            " tf_concat_3 (TFConcat)         (1, 20, 20, 512)     0           ['tf_conv_51[0][0]',             \n",
            "                                                                  'tf_conv_33[0][0]']             \n",
            "                                                                                                  \n",
            " tfc3_7 (TFC3)                  (1, 20, 20, 512)     1181184     ['tf_concat_3[0][0]']            \n",
            "                                                                                                  \n",
            " tf_detect (TFDetect)           ((1, 25200, 116),    312852      ['tfc3_5[0][0]',                 \n",
            "                                )                                 'tfc3_6[0][0]',                 \n",
            "                                                                  'tfc3_7[0][0]']                 \n",
            "                                                                                                  \n",
            "==================================================================================================\n",
            "Total params: 7,309,492\n",
            "Trainable params: 0\n",
            "Non-trainable params: 7,309,492\n",
            "__________________________________________________________________________________________________\n",
            "\u001b[34m\u001b[1mTensorFlow SavedModel:\u001b[0m export success ✅ 13.8s, saved as /content/yolov5/runs/train/ingredients_results/weights/best_saved_model (28.1 MB)\n",
            "\n",
            "\u001b[34m\u001b[1mTensorFlow Lite:\u001b[0m starting export with tensorflow 2.12.0...\n",
            "WARNING:absl:Found untraced functions such as tf_conv_2_layer_call_fn, tf_conv_2_layer_call_and_return_conditional_losses, tf_conv_3_layer_call_fn, tf_conv_3_layer_call_and_return_conditional_losses, tf_conv_4_layer_call_fn while saving (showing 5 of 268). These functions will not be directly callable after loading.\n",
            "\u001b[34m\u001b[1mTensorFlow Lite:\u001b[0m export success ✅ 60.1s, saved as /content/yolov5/runs/train/ingredients_results/weights/best-fp16.tflite (14.1 MB)\n",
            "\n",
            "Export complete (75.4s)\n",
            "Results saved to \u001b[1m/content/yolov5/runs/train/ingredients_results/weights\u001b[0m\n",
            "Detect:          python detect.py --weights /content/yolov5/runs/train/ingredients_results/weights/best-fp16.tflite \n",
            "Validate:        python val.py --weights /content/yolov5/runs/train/ingredients_results/weights/best-fp16.tflite \n",
            "PyTorch Hub:     model = torch.hub.load('ultralytics/yolov5', 'custom', '/content/yolov5/runs/train/ingredients_results/weights/best-fp16.tflite')  \n",
            "Visualize:       https://netron.app\n"
          ]
        }
      ]
    }
  ]
}